{
 "cells": [
  {
   "cell_type": "code",
   "execution_count": 1,
   "metadata": {},
   "outputs": [],
   "source": [
    "from google.cloud import vision"
   ]
  },
  {
   "cell_type": "code",
   "execution_count": 44,
   "metadata": {},
   "outputs": [],
   "source": [
    "import os \n",
    "import io \n",
    "from google.cloud import vision \n",
    "from matplotlib import pyplot as plt \n",
    "from matplotlib import patches as pch \n",
    "\n",
    "os.environ[\"GOOGLE_APPLICATION_CREDENTIALS\"]=\"/Users/akshaykumar/Documents/load-balancer-gcp.json\" \n",
    "\n",
    "client = vision.ImageAnnotatorClient() \n",
    "\n",
    "f = '/Users/akshaykumar/Downloads/IMG_0123.png'\n",
    "with io.open(f, 'rb') as image: \n",
    "    content = image.read() \n",
    "\n",
    "image = vision.types.Image(content = content) \n",
    "response = client.text_detection(image = image) \n",
    "texts = response.text_annotations \n",
    "\n",
    "# a = plt.imread(f) \n",
    "# fig, ax = plt.subplots(1) \n",
    "# ax.imshow(a) \n",
    "x = []\n",
    "for text in texts: \n",
    "    x.append(text.description)\n",
    "    break\n",
    "#     vertices = ([(vertex.x, vertex.y) \n",
    "#                 for vertex in text.bounding_poly.vertices]) \n",
    "#     print('Vertices covering text: {}\\n\\n'.format(vertices)) \n",
    "#     rect = pch.Rectangle(vertices[0], (vertices[1][0] - vertices[0][0]), \n",
    "#         (vertices[2][1] - vertices[0][1]), linewidth = 1, \n",
    "#                                 edgecolor ='r', facecolor ='none') \n",
    "#     ax.add_patch(rect) \n",
    "# plt.show() \n",
    "y = str(x[0])"
   ]
  },
  {
   "cell_type": "code",
   "execution_count": 45,
   "metadata": {},
   "outputs": [
    {
     "data": {
      "text/plain": [
       "\"INGREDIENTS:\\nDORITOS SALSA FLAVORED TORTILLA CHIPS\\nCom,Vegetable Oil (Com, Canola, and/or Sunflower Oil), and Less Than 2% of the\\nFollowing: Maltodextrin (Made from Corn), Salt, Cheddar Cheese (Milk, Chese\\nCultures,Salt, Enzymes), Monosodium Glutamate, Tomato Powder, Onion Powder,\\nWhey, Sugar, Sodium Diacetate, Corn Starch, Buttermilk, Romano Cheese\\nPart-Skim Cow's Milk, Cheese Cultures, Salt, Enzymes), Whey Protein Concentrate,\\nCon Syrup Solids, Fructose, Natural and Artificial Flavors, Lactose, Spices, Garlic\\nPowder, Citric Acid, Skim Milk, Artificial Color (Red 40 Lake, Yellow 6,Yellow 5, Yellow\\n6 Lake,Yellow 5 Lake, Blue 1, Red 40), Malic Acid, Lime Juice, Lactic Acid, Sodium\\nCaseinate, Disodium Inosinate, and Disodiumanylate.\\n\""
      ]
     },
     "execution_count": 45,
     "metadata": {},
     "output_type": "execute_result"
    }
   ],
   "source": [
    "y"
   ]
  },
  {
   "cell_type": "code",
   "execution_count": 46,
   "metadata": {},
   "outputs": [],
   "source": [
    "y = y.replace(\"\\n\", \",\")"
   ]
  },
  {
   "cell_type": "code",
   "execution_count": 47,
   "metadata": {},
   "outputs": [],
   "source": [
    "y = y.replace(\"(\" , \",\")\n",
    "y = y.replace(\")\", \"\")"
   ]
  },
  {
   "cell_type": "code",
   "execution_count": 48,
   "metadata": {},
   "outputs": [],
   "source": [
    "arr = y.split(\",\")"
   ]
  },
  {
   "cell_type": "code",
   "execution_count": 49,
   "metadata": {},
   "outputs": [],
   "source": [
    "speChar = [\"\\n\", \",\",\"(\" , \",\",\")\", \"\"]"
   ]
  },
  {
   "cell_type": "code",
   "execution_count": 50,
   "metadata": {},
   "outputs": [],
   "source": [
    "for num in range(len(speChar)//2):\n",
    "    y = y.replace(speChar[num + num], speChar[num+1+num])"
   ]
  },
  {
   "cell_type": "code",
   "execution_count": 73,
   "metadata": {},
   "outputs": [
    {
     "ename": "NameError",
     "evalue": "name 'food' is not defined",
     "output_type": "error",
     "traceback": [
      "\u001b[0;31m---------------------------------------------------------------------------\u001b[0m",
      "\u001b[0;31mNameError\u001b[0m                                 Traceback (most recent call last)",
      "\u001b[0;32m<ipython-input-73-3316b4012015>\u001b[0m in \u001b[0;36m<module>\u001b[0;34m\u001b[0m\n\u001b[0;32m----> 1\u001b[0;31m \u001b[0mfood\u001b[0m\u001b[0;34m\u001b[0m\u001b[0;34m\u001b[0m\u001b[0m\n\u001b[0m",
      "\u001b[0;31mNameError\u001b[0m: name 'food' is not defined"
     ]
    }
   ],
   "source": [
    "food"
   ]
  },
  {
   "cell_type": "code",
   "execution_count": 93,
   "metadata": {},
   "outputs": [
    {
     "name": "stdout",
     "output_type": "stream",
     "text": [
      "['INGREDIENTS:', 'DORITOS SALSA FLAVORED TORTILLA CHIPS', 'COM', 'VEGETABLE OIL ', 'COM', ' CANOLA', ' AND/OR SUNFLOWER OIL', ' AND LESS THAN 2% OF THE', 'FOLLOWING: MALTODEXTRIN ', 'MADE FROM CORN', ' SALT', ' CHEDDAR CHEESE ', 'MILK', ' CHESE', 'CULTURES', 'SALT', ' ENZYMES', ' MONOSODIUM GLUTAMATE', ' TOMATO POWDER', ' ONION POWDER', '', 'WHEY', ' SUGAR', ' SODIUM DIACETATE', ' CORN STARCH', ' BUTTERMILK', ' ROMANO CHEESE', \"PART-SKIM COW'S MILK\", ' CHEESE CULTURES', ' SALT', ' ENZYMES', ' WHEY PROTEIN CONCENTRATE', '', 'CON SYRUP SOLIDS', ' FRUCTOSE', ' NATURAL AND ARTIFICIAL FLAVORS', ' LACTOSE', ' SPICES', ' GARLIC', 'POWDER', ' CITRIC ACID', ' SKIM MILK', ' ARTIFICIAL COLOR ', 'RED 40 LAKE', ' YELLOW 6', 'YELLOW 5', ' YELLOW', '6 LAKE', 'YELLOW 5 LAKE', ' BLUE 1', ' RED 40', ' MALIC ACID', ' LIME JUICE', ' LACTIC ACID', ' SODIUM', 'CASEINATE', ' DISODIUM INOSINATE', ' AND DISODIUMANYLATE.', '']\n",
      "[['https://en.wikipedia.org/wiki/Allura_Red_AC', 'https://en.wikipedia.org/wiki/Brilliant_Blue_FCF', 'https://en.wikipedia.org/wiki/Yellow_5', 'https://en.wikipedia.org/wiki/Sunset_Yellow_FCF', 'https://en.wikipedia.org/wiki/Sunflower_oil', 'https://en.wikipedia.org/wiki/Allura_Red_AC', 'https://en.wikipedia.org/wiki/Sunset_Yellow_FCF'], [], ['https://en.wikipedia.org/wiki/Maltodextrin'], ['https://en.wikipedia.org/wiki/Sunflower_oil'], [], [], ['https://en.wikipedia.org/wiki/Artificial_flavor', 'https://en.wikipedia.org/wiki/Disodium_inosinate'], ['https://en.wikipedia.org/wiki/Disodium_inosinate'], []]\n"
     ]
    }
   ],
   "source": [
    "import requests\n",
    "import sys\n",
    "import webbrowser\n",
    "import bs4\n",
    "import os\n",
    "import re\n",
    "import wikipedia as wiki\n",
    "import codecs\n",
    "# from spellchecker import SpellChecker\n",
    "import pandas as pd\n",
    "import numpy as np\n",
    "URLS = []\n",
    "cancer_l = []\n",
    "diabetes_l = []  \n",
    "asthma_1 = []\n",
    "heart_1 = []\n",
    "inconclusive_1 = []\n",
    "testing_1 = []\n",
    "risk_1 = []\n",
    "stomach_1 = []\n",
    "liver_l = [] \n",
    "def checkUrl(url):\n",
    "    p = urlparse(url)\n",
    "    conn = http.client.HTTPConnection(p.netloc)\n",
    "    conn.request('HEAD', p.path)\n",
    "    resp = conn.getresponse()\n",
    "    return resp.status < 400\n",
    "\n",
    "def fixNames(foods):\n",
    "    fixed = []\n",
    "    for i in foods:\n",
    "        fix = i\n",
    "        if \" \" in i:\n",
    "            fix = i[0:i.index(\" \")+1]+ i[i.index(\" \") +1:].lower()\n",
    "            fix = fix.replace(' ', '_')\n",
    "        fix = fix.capitalize()\n",
    "        fixed.append(fix)\n",
    "    return fixed\n",
    "\n",
    "# def fixWords(foods):\n",
    "#     spell = SpellChecker()\n",
    "#     safe = []\n",
    "#     f = open('badlist.txt', 'r')\n",
    "#     for line in f:\n",
    "#         safe.append(line.strip())\n",
    "#     foods = [x.upper() for x in foods]\n",
    "#     safe = [y.upper() for y in safe]\n",
    "#     newWords = []\n",
    "#     for i in foods:\n",
    "#         bet = \"\"\n",
    "#         if i in safe:\n",
    "#             newWords.append(i)\n",
    "#         elif \" \" not in i:\n",
    "#             newWords.append(spell.correction(i))\n",
    "#         else:\n",
    "#             ary = i.split(\" \")\n",
    "#             for x in ary:\n",
    "#                 bet += (spell.correction(x) + \" \")\n",
    "#             bet = bet[0:len(bet)-1]\n",
    "#             newWords.append(bet)\n",
    "#     return newWords\n",
    "def health_check(carcin, food): #carcin is the disease ie Cancer, Diabetes, etc;\n",
    "    heal = []\n",
    "    for i in carcin:\n",
    "        for j in food:\n",
    "            if i in j and i not in heal:\n",
    "                heal.append(i)\n",
    "    return heal\n",
    "\n",
    "def tierList(food):\n",
    "  \n",
    "    path = '/Users/akshaykumar/Downloads/TierList.csv'\n",
    "    df = pd.read_csv(path)\n",
    "    df.fillna('uuu', inplace = True)\n",
    "    cancer = np.asanyarray(df['cancer'].str.upper())\n",
    "    diabetes = np.asanyarray(df['diabetes'].str.upper())\n",
    "    asthma = np.asanyarray(df['asthma'].str.upper())\n",
    "    heart = np.asanyarray(df['Heart'].str.upper())\n",
    "    inconclusive = np.asanyarray(df['inconclusive'].str.upper())\n",
    "    testing = np.asanyarray(df['testing'].str.upper())\n",
    "    risk = np.asanyarray(df['risk'].str.upper())\n",
    "    stomach = np.asanyarray(df['stomach'].str.upper())\n",
    "    liver = np.asanyarray(df['LIVER'].str.upper())\n",
    "    food = [x.upper() for x in food]\n",
    "    \n",
    "    # Match the arr list generated by the GCP with possible risksx\n",
    "    \n",
    "    cancer_l = health_check(cancer,food)\n",
    "    diabetes_l = health_check(diabetes,food)\n",
    "    asthma_l = health_check(asthma,food)\n",
    "    heart_l = health_check(heart,food)\n",
    "    inconclusive_l = health_check(inconclusive,food)\n",
    "    testing_l = health_check(testing,food)\n",
    "    risk_l = health_check(risk,food)\n",
    "    stomach_l = health_check(stomach,food)\n",
    "    liver_l = health_check(liver,food)\n",
    "    cum_list = [cancer_l,diabetes_l,asthma_l,heart_l,inconclusive_l,testing_l,risk_l,stomach_l,liver_l]\n",
    "    for x in range(len(cum_list)):\n",
    "        cum_list[x] = generateUrl(cum_list[x])\n",
    "    print(cum_list)\n",
    "\n",
    "    \n",
    "def generateUrl(arr):\n",
    "    arr = fixNames(arr)\n",
    "    for i in range(len(arr)):\n",
    "        j = arr[i]\n",
    "        if j == \"Yellow_6\" or j == 'Yellow_6_lake' or j == 'Yellow_5_lake':\n",
    "            urllink = \"https://en.wikipedia.org/wiki/Sunset_Yellow_FCF\"\n",
    "        elif j == \"Red_40\" or j == \"Red_40_lake\":\n",
    "            urllink = \"https://en.wikipedia.org/wiki/Allura_Red_AC\"\n",
    "        elif j== \"Blue_1\":\n",
    "            urllink = \"https://en.wikipedia.org/wiki/Brilliant_Blue_FCF\"\n",
    "        else:\n",
    "            urllink = \"https://en.wikipedia.org/wiki/\" + ''.join(j)\n",
    "        #webbrowser.get('chrome').open(urllink)\n",
    "        #if checkUrl(urllink):\n",
    "        arr[i] = urllink\n",
    "    return arr\n",
    "def main():\n",
    "    \n",
    "    search = arr\n",
    "    #search = fixWords(search)\n",
    "    #search = fixNames(search)\n",
    "    tierList(search)\n",
    "    # for the google links    # requests\n",
    "main()\n"
   ]
  },
  {
   "cell_type": "code",
   "execution_count": 22,
   "metadata": {},
   "outputs": [],
   "source": [
    "x = \"asjkdhakdhaksmalto\""
   ]
  },
  {
   "cell_type": "code",
   "execution_count": 23,
   "metadata": {},
   "outputs": [
    {
     "data": {
      "text/plain": [
       "True"
      ]
     },
     "execution_count": 23,
     "metadata": {},
     "output_type": "execute_result"
    }
   ],
   "source": [
    "e"
   ]
  },
  {
   "cell_type": "code",
   "execution_count": 38,
   "metadata": {},
   "outputs": [
    {
     "ename": "ModuleNotFoundError",
     "evalue": "No module named 'PIL'",
     "output_type": "error",
     "traceback": [
      "\u001b[0;31m---------------------------------------------------------------------------\u001b[0m",
      "\u001b[0;31mModuleNotFoundError\u001b[0m                       Traceback (most recent call last)",
      "\u001b[0;32m<ipython-input-38-30b235071227>\u001b[0m in \u001b[0;36m<module>\u001b[0;34m\u001b[0m\n\u001b[0;32m----> 1\u001b[0;31m \u001b[0;32mfrom\u001b[0m \u001b[0mPIL\u001b[0m \u001b[0;32mimport\u001b[0m \u001b[0mImage\u001b[0m\u001b[0;34m\u001b[0m\u001b[0;34m\u001b[0m\u001b[0m\n\u001b[0m\u001b[1;32m      2\u001b[0m \u001b[0;34m\u001b[0m\u001b[0m\n\u001b[1;32m      3\u001b[0m \u001b[0mim\u001b[0m \u001b[0;34m=\u001b[0m \u001b[0mImage\u001b[0m\u001b[0;34m.\u001b[0m\u001b[0mopen\u001b[0m\u001b[0;34m(\u001b[0m\u001b[0;34m'Foto.jpg'\u001b[0m\u001b[0;34m)\u001b[0m\u001b[0;34m\u001b[0m\u001b[0;34m\u001b[0m\u001b[0m\n\u001b[1;32m      4\u001b[0m \u001b[0mim\u001b[0m\u001b[0;34m.\u001b[0m\u001b[0msave\u001b[0m\u001b[0;34m(\u001b[0m\u001b[0;34m'Foto.png'\u001b[0m\u001b[0;34m)\u001b[0m\u001b[0;34m\u001b[0m\u001b[0;34m\u001b[0m\u001b[0m\n",
      "\u001b[0;31mModuleNotFoundError\u001b[0m: No module named 'PIL'"
     ]
    }
   ],
   "source": [
    "from PIL import Image\n",
    "\n",
    "im = Image.open('Foto.jpg')\n",
    "im.save('Foto.png') "
   ]
  },
  {
   "cell_type": "code",
   "execution_count": 39,
   "metadata": {},
   "outputs": [
    {
     "ename": "ModuleNotFoundError",
     "evalue": "No module named 'Image'",
     "output_type": "error",
     "traceback": [
      "\u001b[0;31m---------------------------------------------------------------------------\u001b[0m",
      "\u001b[0;31mModuleNotFoundError\u001b[0m                       Traceback (most recent call last)",
      "\u001b[0;32m<ipython-input-39-a0668a37eb47>\u001b[0m in \u001b[0;36m<module>\u001b[0;34m\u001b[0m\n\u001b[0;32m----> 1\u001b[0;31m \u001b[0;32mimport\u001b[0m \u001b[0mImage\u001b[0m\u001b[0;34m\u001b[0m\u001b[0;34m\u001b[0m\u001b[0m\n\u001b[0m\u001b[1;32m      2\u001b[0m \u001b[0mim\u001b[0m \u001b[0;34m=\u001b[0m \u001b[0mImage\u001b[0m\u001b[0;34m.\u001b[0m\u001b[0mopen\u001b[0m\u001b[0;34m(\u001b[0m\u001b[0;34m\"file.png\"\u001b[0m\u001b[0;34m)\u001b[0m\u001b[0;34m\u001b[0m\u001b[0;34m\u001b[0m\u001b[0m\n\u001b[1;32m      3\u001b[0m \u001b[0mim\u001b[0m\u001b[0;34m.\u001b[0m\u001b[0msave\u001b[0m\u001b[0;34m(\u001b[0m\u001b[0;34m\"file.jpg\"\u001b[0m\u001b[0;34m,\u001b[0m \u001b[0;34m\"JPEG\"\u001b[0m\u001b[0;34m)\u001b[0m\u001b[0;34m\u001b[0m\u001b[0;34m\u001b[0m\u001b[0m\n",
      "\u001b[0;31mModuleNotFoundError\u001b[0m: No module named 'Image'"
     ]
    }
   ],
   "source": [
    "import Image\n",
    "im = Image.open(\"file.png\")\n",
    "im.save(\"file.jpg\", \"JPEG\")"
   ]
  },
  {
   "cell_type": "code",
   "execution_count": null,
   "metadata": {},
   "outputs": [],
   "source": []
  }
 ],
 "metadata": {
  "kernelspec": {
   "display_name": "Python 3",
   "language": "python",
   "name": "python3"
  },
  "language_info": {
   "codemirror_mode": {
    "name": "ipython",
    "version": 3
   },
   "file_extension": ".py",
   "mimetype": "text/x-python",
   "name": "python",
   "nbconvert_exporter": "python",
   "pygments_lexer": "ipython3",
   "version": "3.7.4"
  }
 },
 "nbformat": 4,
 "nbformat_minor": 2
}
