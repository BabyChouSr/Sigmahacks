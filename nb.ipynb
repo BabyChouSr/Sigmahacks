{
 "cells": [
  {
   "cell_type": "code",
   "execution_count": 1,
   "metadata": {},
   "outputs": [
    {
     "ename": "ModuleNotFoundError",
     "evalue": "No module named 'google.cloud'",
     "output_type": "error",
     "traceback": [
      "\u001b[1;31m---------------------------------------------------------------------------\u001b[0m",
      "\u001b[1;31mModuleNotFoundError\u001b[0m                       Traceback (most recent call last)",
      "\u001b[1;32m<ipython-input-1-d506ee277728>\u001b[0m in \u001b[0;36m<module>\u001b[1;34m()\u001b[0m\n\u001b[1;32m----> 1\u001b[1;33m \u001b[1;32mfrom\u001b[0m \u001b[0mgoogle\u001b[0m\u001b[1;33m.\u001b[0m\u001b[0mcloud\u001b[0m \u001b[1;32mimport\u001b[0m \u001b[0mvision\u001b[0m\u001b[1;33m\u001b[0m\u001b[0m\n\u001b[0m",
      "\u001b[1;31mModuleNotFoundError\u001b[0m: No module named 'google.cloud'"
     ]
    }
   ],
   "source": [
    "from google.cloud import vision"
   ]
  },
  {
   "cell_type": "code",
   "execution_count": 44,
   "metadata": {},
   "outputs": [],
   "source": [
    "import os \n",
    "import io \n",
    "from google.cloud import vision \n",
    "from matplotlib import pyplot as plt \n",
    "from matplotlib import patches as pch \n",
    "\n",
    "os.environ[\"GOOGLE_APPLICATION_CREDENTIALS\"]=\"/Users/akshaykumar/Documents/load-balancer-gcp.json\" \n",
    "\n",
    "client = vision.ImageAnnotatorClient() \n",
    "\n",
    "f = '/Users/akshaykumar/Downloads/IMG_0123.png'\n",
    "with io.open(f, 'rb') as image: \n",
    "    content = image.read() \n",
    "\n",
    "image = vision.types.Image(content = content) \n",
    "response = client.text_detection(image = image) \n",
    "texts = response.text_annotations \n",
    "\n",
    "# a = plt.imread(f) \n",
    "# fig, ax = plt.subplots(1) \n",
    "# ax.imshow(a) \n",
    "x = []\n",
    "for text in texts: \n",
    "    x.append(text.description)\n",
    "    break\n",
    "#     vertices = ([(vertex.x, vertex.y) \n",
    "#                 for vertex in text.bounding_poly.vertices]) \n",
    "#     print('Vertices covering text: {}\\n\\n'.format(vertices)) \n",
    "#     rect = pch.Rectangle(vertices[0], (vertices[1][0] - vertices[0][0]), \n",
    "#         (vertices[2][1] - vertices[0][1]), linewidth = 1, \n",
    "#                                 edgecolor ='r', facecolor ='none') \n",
    "#     ax.add_patch(rect) \n",
    "# plt.show() \n",
    "y = str(x[0])"
   ]
  },
  {
   "cell_type": "code",
   "execution_count": 45,
   "metadata": {},
   "outputs": [
    {
     "data": {
      "text/plain": [
       "\"INGREDIENTS:\\nDORITOS SALSA FLAVORED TORTILLA CHIPS\\nCom,Vegetable Oil (Com, Canola, and/or Sunflower Oil), and Less Than 2% of the\\nFollowing: Maltodextrin (Made from Corn), Salt, Cheddar Cheese (Milk, Chese\\nCultures,Salt, Enzymes), Monosodium Glutamate, Tomato Powder, Onion Powder,\\nWhey, Sugar, Sodium Diacetate, Corn Starch, Buttermilk, Romano Cheese\\nPart-Skim Cow's Milk, Cheese Cultures, Salt, Enzymes), Whey Protein Concentrate,\\nCon Syrup Solids, Fructose, Natural and Artificial Flavors, Lactose, Spices, Garlic\\nPowder, Citric Acid, Skim Milk, Artificial Color (Red 40 Lake, Yellow 6,Yellow 5, Yellow\\n6 Lake,Yellow 5 Lake, Blue 1, Red 40), Malic Acid, Lime Juice, Lactic Acid, Sodium\\nCaseinate, Disodium Inosinate, and Disodiumanylate.\\n\""
      ]
     },
     "execution_count": 45,
     "metadata": {},
     "output_type": "execute_result"
    }
   ],
   "source": [
    "y"
   ]
  },
  {
   "cell_type": "code",
   "execution_count": 46,
   "metadata": {},
   "outputs": [],
   "source": [
    "y = y.replace(\"\\n\", \",\")"
   ]
  },
  {
   "cell_type": "code",
   "execution_count": 47,
   "metadata": {},
   "outputs": [],
   "source": [
    "y = y.replace(\"(\" , \",\")\n",
    "y = y.replace(\")\", \"\")"
   ]
  },
  {
   "cell_type": "code",
   "execution_count": 48,
   "metadata": {},
   "outputs": [],
   "source": [
    "arr = y.split(\",\")"
   ]
  },
  {
   "cell_type": "code",
   "execution_count": 49,
   "metadata": {},
   "outputs": [],
   "source": [
    "speChar = [\"\\n\", \",\",\"(\" , \",\",\")\", \"\"]"
   ]
  },
  {
   "cell_type": "code",
   "execution_count": 50,
   "metadata": {},
   "outputs": [],
   "source": [
    "for num in range(len(speChar)//2):\n",
    "    y = y.replace(speChar[num + num], speChar[num+1+num])"
   ]
  },
  {
   "cell_type": "code",
   "execution_count": 73,
   "metadata": {},
   "outputs": [
    {
     "ename": "NameError",
     "evalue": "name 'food' is not defined",
     "output_type": "error",
     "traceback": [
      "\u001b[0;31m---------------------------------------------------------------------------\u001b[0m",
      "\u001b[0;31mNameError\u001b[0m                                 Traceback (most recent call last)",
      "\u001b[0;32m<ipython-input-73-3316b4012015>\u001b[0m in \u001b[0;36m<module>\u001b[0;34m\u001b[0m\n\u001b[0;32m----> 1\u001b[0;31m \u001b[0mfood\u001b[0m\u001b[0;34m\u001b[0m\u001b[0;34m\u001b[0m\u001b[0m\n\u001b[0m",
      "\u001b[0;31mNameError\u001b[0m: name 'food' is not defined"
     ]
    }
   ],
   "source": [
    "food"
   ]
  },
  {
   "cell_type": "code",
   "execution_count": 29,
   "metadata": {},
   "outputs": [
    {
     "name": "stdout",
     "output_type": "stream",
     "text": [
      "RED 40 causes cancer\n",
      "LEARN MORE ABOUT RED 40 THROUGH THIS LINK: https://en.wikipedia.org/wiki/Allura_Red_AC\n",
      "BLUE 1 causes cancer\n",
      "LEARN MORE ABOUT BLUE 1 THROUGH THIS LINK: https://en.wikipedia.org/wiki/Brilliant_Blue_FCF\n",
      "YELLOW 5 causes cancer\n",
      "LEARN MORE ABOUT YELLOW 5 THROUGH THIS LINK: https://en.wikipedia.org/wiki/Yellow_5\n",
      "YELLOW 6 causes cancer\n",
      "LEARN MORE ABOUT YELLOW 6 THROUGH THIS LINK: https://en.wikipedia.org/wiki/Sunset_Yellow_FCF\n",
      "SUNFLOWER OIL causes cancer/ heart disease\n",
      "LEARN MORE ABOUT SUNFLOWER OIL THROUGH THIS LINK: https://en.wikipedia.org/wiki/Sunflower_oil\n",
      "RED 40 LAKE causes cancer\n",
      "LEARN MORE ABOUT RED 40 LAKE THROUGH THIS LINK: https://en.wikipedia.org/wiki/Allura_Red_AC\n",
      "YELLOW 5 LAKE causes cancer\n",
      "LEARN MORE ABOUT YELLOW 5 LAKE THROUGH THIS LINK: https://en.wikipedia.org/wiki/Sunset_Yellow_FCF\n",
      "MALTODEXTRIN causes asthma\n",
      "LEARN MORE ABOUT MALTODEXTRIN THROUGH THIS LINK: https://en.wikipedia.org/wiki/Maltodextrin\n",
      "ARTIFICIAL FLAVOR causes different risks (Check Link/Database for More Info)\n",
      "LEARN MORE ABOUT ARTIFICIAL FLAVOR THROUGH THIS LINK: https://en.wikipedia.org/wiki/Artificial_flavor\n",
      "DISODIUM INOSINATE causes different risks (Check Link/Database for More Info)/ Stomachaches\n",
      "LEARN MORE ABOUT DISODIUM INOSINATE THROUGH THIS LINK: https://en.wikipedia.org/wiki/Disodium_inosinate\n",
      "DISODIUM GUANYLATE causes different risks (Check Link/Database for More Info)\n",
      "LEARN MORE ABOUT DISODIUM GUANYLATE THROUGH THIS LINK: https://en.wikipedia.org/wiki/Disodium_guanylate\n"
     ]
    }
   ],
   "source": [
    "import requests\n",
    "import sys\n",
    "import webbrowser\n",
    "import bs4\n",
    "import os\n",
    "import re\n",
    "import wikipedia as wiki\n",
    "import codecs\n",
    "# from spellchecker import SpellChecker\n",
    "import pandas as pd\n",
    "import numpy as np\n",
    "URLS = []\n",
    "cancer_l = []\n",
    "diabetes_l = []  \n",
    "asthma_1 = []\n",
    "heart_1 = []\n",
    "inconclusive_1 = []\n",
    "testing_1 = []\n",
    "risk_1 = []\n",
    "stomach_1 = []\n",
    "liver_l = [] \n",
    "def checkUrl(url):\n",
    "    p = urlparse(url)\n",
    "    conn = http.client.HTTPConnection(p.netloc)\n",
    "    conn.request('HEAD', p.path)\n",
    "    resp = conn.getresponse()\n",
    "    return resp.status < 400\n",
    "\n",
    "def fixNames(foods):\n",
    "    fixed = []\n",
    "    for i in foods:\n",
    "        fix = i\n",
    "        if \" \" in i:\n",
    "            fix = i[0:i.index(\" \")+1]+ i[i.index(\" \") +1:].lower()\n",
    "            fix = fix.replace(' ', '_')\n",
    "        fix = fix.capitalize()\n",
    "        fixed.append(fix)\n",
    "    return fixed\n",
    "\n",
    "# def fixWords(foods):\n",
    "#     spell = SpellChecker()\n",
    "#     safe = []\n",
    "#     f = open('badlist.txt', 'r')\n",
    "#     for line in f:\n",
    "#         safe.append(line.strip())\n",
    "#     foods = [x.upper() for x in foods]\n",
    "#     safe = [y.upper() for y in safe]\n",
    "#     newWords = []\n",
    "#     for i in foods:\n",
    "#         bet = \"\"\n",
    "#         if i in safe:\n",
    "#             newWords.append(i)\n",
    "#         elif \" \" not in i:\n",
    "#             newWords.append(spell.correction(i))\n",
    "#         else:\n",
    "#             ary = i.split(\" \")\n",
    "#             for x in ary:\n",
    "#                 bet += (spell.correction(x) + \" \")\n",
    "#             bet = bet[0:len(bet)-1]\n",
    "#             newWords.append(bet)\n",
    "#     return newWords\n",
    "def health_check(carcin, food): #carcin is the disease ie Cancer, Diabetes, etc;\n",
    "    heal = []\n",
    "    for i in carcin:\n",
    "        for j in food:\n",
    "            if i in j and i not in heal:\n",
    "                heal.append(i)\n",
    "    return heal\n",
    "\n",
    "def tierList(food):\n",
    "  \n",
    "    path = 'C:\\\\Users\\\\HP\\\\Desktop\\\\SigmaHacks\\\\Health Tier List\\\\TierList.csv'\n",
    "    df = pd.read_csv(path)\n",
    "    df.fillna('uuu', inplace = True)\n",
    "    cancer = np.asanyarray(df['cancer'].str.upper())\n",
    "    diabetes = np.asanyarray(df['diabetes'].str.upper())\n",
    "    asthma = np.asanyarray(df['asthma'].str.upper())\n",
    "    heart = np.asanyarray(df['Heart'].str.upper())\n",
    "    risk = np.asanyarray(df['risk'].str.upper())\n",
    "    stomach = np.asanyarray(df['stomach'].str.upper())\n",
    "    liver = np.asanyarray(df['LIVER'].str.upper())\n",
    "    food = [x.upper() for x in food]\n",
    "    \n",
    "    # Match the arr list generated by the GCP with possible risksx\n",
    "    # 0: Cancer / 1: Diabetes /  2: Asthma  / 3: Heart / 4: Risk/  5: Stomach / 6: Liver\n",
    "    cancer_l = health_check(cancer,food)\n",
    "    diabetes_l = health_check(diabetes,food)\n",
    "    asthma_l = health_check(asthma,food)\n",
    "    heart_l = health_check(heart,food)\n",
    "    risk_l = health_check(risk,food)\n",
    "    stomach_l = health_check(stomach,food)\n",
    "    liver_l = health_check(liver,food)\n",
    "    cum_list = [cancer_l,diabetes_l,asthma_l,heart_l,risk_l,stomach_l,liver_l]\n",
    "    \n",
    "    # CONVERT TO THE URL VERSION OF THE SAME LIST l2 means the URL VERSION\n",
    "    cancer_l2 = generateUrl(cancer_l)\n",
    "    diabetes_l2 = generateUrl(diabetes_l)\n",
    "    asthma_l2 = generateUrl(asthma_l)\n",
    "    heart_l2 = generateUrl(heart_l)\n",
    "    risk_l2 = generateUrl(risk_l)\n",
    "    stomach_l2 = generateUrl(stomach_l)\n",
    "    liver_l2 = generateUrl(liver_l)\n",
    "    \n",
    "    #CHECK WHICH CATEGORIES THE CARCINOGEN IS PART OF \n",
    "    used = []\n",
    "    linkChecker(cancer_l,cancer_l2,used,cum_list)\n",
    "    linkChecker(diabetes_l,diabetes_l2,used,cum_list)\n",
    "    linkChecker(asthma_l,asthma_l2,used,cum_list)\n",
    "    linkChecker(heart_l,heart_l2,used,cum_list)\n",
    "    linkChecker(risk_l,risk_l2,used,cum_list)\n",
    "    linkChecker(stomach_l,stomach_l2,used,cum_list)\n",
    "    linkChecker(liver_l,liver_l2,used,cum_list)\n",
    "    \n",
    "def linkChecker(carcin_l,carcin_l2,used,cum_list): # adds the different links people check                \n",
    "     if len(carcin_l2) > 0:\n",
    "        for i in range(len(carcin_l)):\n",
    "            if carcin_l[i] not in used:\n",
    "                printed = carcin_l[i] + \" causes \"\n",
    "                printed = addOns(carcin_l[i],cum_list,printed)\n",
    "                print(printed)\n",
    "                print(\"LEARN MORE ABOUT \"+carcin_l[i]+\" THROUGH THIS LINK: \"+carcin_l2[i])\n",
    "                used.append(carcin_l[i])  \n",
    "                \n",
    "def addOns(l,cumul,printed): #adds the different diseases and risks to the printed statement = multiple check\n",
    "    numRisks = 0\n",
    "    if l in cumul[0]: \n",
    "        printed += \"cancer/ \" \n",
    "        numRisks +=1\n",
    "    if l in cumul[1]: \n",
    "        printed += \"diabetes/ \" \n",
    "        numRisks +=1\n",
    "    if l in cumul[2]: \n",
    "        printed += \"asthma/ \" \n",
    "        numRisks +=1\n",
    "    if l in cumul[3]: \n",
    "        printed += \"heart disease/ \"\n",
    "        numRisks +=1\n",
    "    if l in cumul[4]: \n",
    "        printed += \"different risks (Check Link/Database for More Info)/ \" \n",
    "        numRisks +=1\n",
    "    if l in cumul[5]: \n",
    "        printed += \"Stomachaches/ \" \n",
    "        numRisks +=1\n",
    "    if l in cumul[6]: \n",
    "        printed += \"Liver Damage/ \"\n",
    "        numRisks +=1\n",
    "    return printed[0:len(printed)-2]\n",
    "\n",
    "def generateUrl(arr):\n",
    "    arr = fixNames(arr)\n",
    "    for i in range(len(arr)):\n",
    "        j = arr[i]\n",
    "        if j == \"Yellow_6\" or j == 'Yellow_6_lake' or j == 'Yellow_5_lake':\n",
    "            urllink = \"https://en.wikipedia.org/wiki/Sunset_Yellow_FCF\"\n",
    "        elif j == \"Red_40\" or j == \"Red_40_lake\":\n",
    "            urllink = \"https://en.wikipedia.org/wiki/Allura_Red_AC\"\n",
    "        elif j== \"Blue_1\":\n",
    "            urllink = \"https://en.wikipedia.org/wiki/Brilliant_Blue_FCF\"\n",
    "        else:\n",
    "            urllink = \"https://en.wikipedia.org/wiki/\" + ''.join(j)\n",
    "        #webbrowser.get('chrome').open(urllink)\n",
    "        #if checkUrl(urllink):\n",
    "        arr[i] = urllink\n",
    "    return arr\n",
    "def main():\n",
    "    arr = ['INGREDIENT S',\n",
    " 'DORITOS SALSA FLAVORED TORTILLA CHIPS',\n",
    " 'Com',\n",
    " ' Veneable Oil ',\n",
    " 'Com',\n",
    " ' Canola',\n",
    " ' and/or Sunflower Oil',\n",
    " ' and Less Than 2 % of the',\n",
    " 'Fullowing: Maltodextrin ',\n",
    " 'Made from Corm',\n",
    " ' Salt',\n",
    " ' Cheddar Cheese ',\n",
    " 'Milk',\n",
    " ' Cheese',\n",
    " 'Cuus',\n",
    " ' Sait',\n",
    " ' Enzymes',\n",
    " ' Monosodium Glutamate',\n",
    " ' Tomato Powder',\n",
    " ' Onion Powder',\n",
    " 'Sugar',\n",
    " ' Sodium Diacetate',\n",
    " ' Corn Starch',\n",
    " ' Buttermilk',\n",
    " ' Romano Cheese',\n",
    " \"Pat Skim Cow's Milk\",\n",
    " ' Cheese Cultures',\n",
    " ' Sait',\n",
    " ' Enzymes',\n",
    " 'Whey Protein Concentrate',\n",
    " 'Com Syrup Solids',\n",
    " ' Fructose',\n",
    " ' Natural and Artificial Flavors',\n",
    " ' Lactose',\n",
    " 'Spices',\n",
    " ' Garlic',\n",
    " 'Powder',\n",
    " ' Citric Acid',\n",
    " 'Skim Mik',\n",
    " 'Artificial Color ',\n",
    " 'Red 40 Lake',\n",
    " ' Yellow 6',\n",
    " ' Yelow 5',\n",
    " ' Yellow',\n",
    " '6 Lake',\n",
    " ' Yellow 5 Lake',\n",
    " ' Blue 1',\n",
    " ' Red 40',\n",
    " ' Malic Acid',\n",
    " ' Lime Juice',\n",
    " ' Lactic Acid',\n",
    " ' Sodium',\n",
    " 'Caselhate',\n",
    " ' Disodium Inosinate and Disodium Guanylate.',\n",
    " 'CONTAINS MILK INGREDIENTS',\n",
    " \"MEETOS FLAMIN' HOTO CRUNCHY CHEESE FLAVORED SNACKS\",\n",
    " 'Thinmin Mononitrate',\n",
    " '',\n",
    " '']\n",
    "    search = arr\n",
    "    #search = fixWords(search)\n",
    "    #search = fixNames(search)\n",
    "    tierList(search)\n",
    "    # for the google links    # requests\n",
    "main()\n"
   ]
  },
  {
   "cell_type": "code",
   "execution_count": 22,
   "metadata": {},
   "outputs": [],
   "source": [
    "x = \"asjkdhakdhaksmalto\""
   ]
  },
  {
   "cell_type": "code",
   "execution_count": 23,
   "metadata": {},
   "outputs": [
    {
     "data": {
      "text/plain": [
       "True"
      ]
     },
     "execution_count": 23,
     "metadata": {},
     "output_type": "execute_result"
    }
   ],
   "source": [
    "e"
   ]
  },
  {
   "cell_type": "code",
   "execution_count": 38,
   "metadata": {},
   "outputs": [
    {
     "ename": "ModuleNotFoundError",
     "evalue": "No module named 'PIL'",
     "output_type": "error",
     "traceback": [
      "\u001b[0;31m---------------------------------------------------------------------------\u001b[0m",
      "\u001b[0;31mModuleNotFoundError\u001b[0m                       Traceback (most recent call last)",
      "\u001b[0;32m<ipython-input-38-30b235071227>\u001b[0m in \u001b[0;36m<module>\u001b[0;34m\u001b[0m\n\u001b[0;32m----> 1\u001b[0;31m \u001b[0;32mfrom\u001b[0m \u001b[0mPIL\u001b[0m \u001b[0;32mimport\u001b[0m \u001b[0mImage\u001b[0m\u001b[0;34m\u001b[0m\u001b[0;34m\u001b[0m\u001b[0m\n\u001b[0m\u001b[1;32m      2\u001b[0m \u001b[0;34m\u001b[0m\u001b[0m\n\u001b[1;32m      3\u001b[0m \u001b[0mim\u001b[0m \u001b[0;34m=\u001b[0m \u001b[0mImage\u001b[0m\u001b[0;34m.\u001b[0m\u001b[0mopen\u001b[0m\u001b[0;34m(\u001b[0m\u001b[0;34m'Foto.jpg'\u001b[0m\u001b[0;34m)\u001b[0m\u001b[0;34m\u001b[0m\u001b[0;34m\u001b[0m\u001b[0m\n\u001b[1;32m      4\u001b[0m \u001b[0mim\u001b[0m\u001b[0;34m.\u001b[0m\u001b[0msave\u001b[0m\u001b[0;34m(\u001b[0m\u001b[0;34m'Foto.png'\u001b[0m\u001b[0;34m)\u001b[0m\u001b[0;34m\u001b[0m\u001b[0;34m\u001b[0m\u001b[0m\n",
      "\u001b[0;31mModuleNotFoundError\u001b[0m: No module named 'PIL'"
     ]
    }
   ],
   "source": [
    "from PIL import Image\n",
    "\n",
    "im = Image.open('Foto.jpg')\n",
    "im.save('Foto.png') "
   ]
  },
  {
   "cell_type": "code",
   "execution_count": 39,
   "metadata": {},
   "outputs": [
    {
     "ename": "ModuleNotFoundError",
     "evalue": "No module named 'Image'",
     "output_type": "error",
     "traceback": [
      "\u001b[0;31m---------------------------------------------------------------------------\u001b[0m",
      "\u001b[0;31mModuleNotFoundError\u001b[0m                       Traceback (most recent call last)",
      "\u001b[0;32m<ipython-input-39-a0668a37eb47>\u001b[0m in \u001b[0;36m<module>\u001b[0;34m\u001b[0m\n\u001b[0;32m----> 1\u001b[0;31m \u001b[0;32mimport\u001b[0m \u001b[0mImage\u001b[0m\u001b[0;34m\u001b[0m\u001b[0;34m\u001b[0m\u001b[0m\n\u001b[0m\u001b[1;32m      2\u001b[0m \u001b[0mim\u001b[0m \u001b[0;34m=\u001b[0m \u001b[0mImage\u001b[0m\u001b[0;34m.\u001b[0m\u001b[0mopen\u001b[0m\u001b[0;34m(\u001b[0m\u001b[0;34m\"file.png\"\u001b[0m\u001b[0;34m)\u001b[0m\u001b[0;34m\u001b[0m\u001b[0;34m\u001b[0m\u001b[0m\n\u001b[1;32m      3\u001b[0m \u001b[0mim\u001b[0m\u001b[0;34m.\u001b[0m\u001b[0msave\u001b[0m\u001b[0;34m(\u001b[0m\u001b[0;34m\"file.jpg\"\u001b[0m\u001b[0;34m,\u001b[0m \u001b[0;34m\"JPEG\"\u001b[0m\u001b[0;34m)\u001b[0m\u001b[0;34m\u001b[0m\u001b[0;34m\u001b[0m\u001b[0m\n",
      "\u001b[0;31mModuleNotFoundError\u001b[0m: No module named 'Image'"
     ]
    }
   ],
   "source": [
    "import Image\n",
    "im = Image.open(\"file.png\")\n",
    "im.save(\"file.jpg\", \"JPEG\")"
   ]
  },
  {
   "cell_type": "code",
   "execution_count": null,
   "metadata": {},
   "outputs": [],
   "source": []
  }
 ],
 "metadata": {
  "kernelspec": {
   "display_name": "Python 3",
   "language": "python",
   "name": "python3"
  },
  "language_info": {
   "codemirror_mode": {
    "name": "ipython",
    "version": 3
   },
   "file_extension": ".py",
   "mimetype": "text/x-python",
   "name": "python",
   "nbconvert_exporter": "python",
   "pygments_lexer": "ipython3",
   "version": "3.6.4"
  }
 },
 "nbformat": 4,
 "nbformat_minor": 2
}
